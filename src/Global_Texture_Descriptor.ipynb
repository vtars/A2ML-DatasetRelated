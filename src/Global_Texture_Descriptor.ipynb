{
 "cells": [
  {
   "cell_type": "markdown",
   "source": [
    "# Global Texture Descriptor"
   ],
   "metadata": {
    "collapsed": false
   }
  },
  {
   "cell_type": "markdown",
   "source": [
    "### 分形维数 Fractal dimension (Hausdorff维数)\n",
    "- 1维"
   ],
   "metadata": {
    "collapsed": false
   }
  },
  {
   "cell_type": "code",
   "execution_count": 86,
   "metadata": {
    "collapsed": true,
    "pycharm": {
     "name": "#%%\n"
    }
   },
   "outputs": [],
   "source": [
    "import numpy as np\n",
    "import cv2\n",
    "import matplotlib.pyplot as plt\n",
    "import matplotlib.image as mpimg\n",
    "import math"
   ]
  },
  {
   "cell_type": "code",
   "execution_count": 87,
   "outputs": [],
   "source": [
    "def rgb2gray(rgb):\n",
    "    r, g, b = rgb[:,:,0], rgb[:,:,1], rgb[:,:,2]\n",
    "    gray = 0.2989 * r + 0.5870 * g + 0.1140 * b\n",
    "    return gray"
   ],
   "metadata": {
    "collapsed": false,
    "pycharm": {
     "name": "#%%\n"
    }
   }
  },
  {
   "cell_type": "code",
   "execution_count": 88,
   "outputs": [
    {
     "name": "stdout",
     "output_type": "stream",
     "text": [
      "The Hausdorff dimension is 1.9662861686967643\n"
     ]
    }
   ],
   "source": [
    "# print(mpimg.imread(\"./pkq.png\").shape)\n",
    "image = cv2.imread(\"./pkq.png\")\n",
    "image_gray = rgb2gray(image)\n",
    "\n",
    "# finding all the non-zero pixels\n",
    "pixels=[]\n",
    "for i in range(image_gray.shape[0]):\n",
    "    for j in range(image_gray.shape[1]):\n",
    "        if image_gray[i,j] > 0:\n",
    "            pixels.append((i,j))\n",
    "\n",
    "Lx = image_gray.shape[1]\n",
    "Ly= image_gray.shape[0]\n",
    "# print(Lx, Ly)\n",
    "pixels = np.array(pixels)\n",
    "# print(pixels.shape)\n",
    "\n",
    "# computing the fractal dimension\n",
    "#considering only scales in a logarithmic list\n",
    "scales = np.logspace(0.01, 1, num=10, endpoint=False, base=2)\n",
    "Ns = []\n",
    "# looping over several scales\n",
    "for scale in scales:\n",
    "    # print (\"======= Scale :\",scale)\n",
    "    # computing the histogram\n",
    "    H, edges = np.histogramdd(pixels, bins=(np.arange(0,Lx,scale),np.arange(0,Ly,scale)))\n",
    "    Ns.append(np.sum(H>0))\n",
    "\n",
    "# linear fit, polynomial of degree 1\n",
    "coeffs = np.polyfit(np.log(scales), np.log(Ns), 1)\n",
    "\n",
    "# plt.plot(np.log(scales),np.log(Ns), 'o', mfc='none')\n",
    "# plt.plot(np.log(scales), np.polyval(coeffs,np.log(scales)))\n",
    "# plt.xlabel('log $\\epsilon$')\n",
    "# plt.ylabel('log N')\n",
    "# plt.savefig('sierpinski_dimension.pdf')\n",
    "\n",
    "Hausdorff_D = -coeffs[0]\n",
    "print (\"The Hausdorff dimension is\", Hausdorff_D) #the fractal dimension is the OPPOSITE of the fitting coefficient\n",
    "# np.savetxt(\"scaling.txt\", list(zip(scales,Ns)))"
   ],
   "metadata": {
    "collapsed": false,
    "pycharm": {
     "name": "#%%\n"
    }
   }
  },
  {
   "cell_type": "markdown",
   "source": [
    "### 粒度 Coarseness\n",
    "- 1维"
   ],
   "metadata": {
    "collapsed": false,
    "pycharm": {
     "name": "#%% md\n"
    }
   }
  },
  {
   "cell_type": "code",
   "execution_count": 89,
   "outputs": [],
   "source": [
    "# image = rgb2gray(cv2.imread(\"./pkq.png\"))\n",
    "# image = cv2.imread(\"./pkq.png\")\n",
    "ar = image[:,:,0].flatten()\n",
    "ag = image[:,:,1].flatten()\n",
    "ab = image[:,:,2].flatten()\n",
    "\n",
    "histogram_r = np.histogram(ar, bins=255, density=True)\n",
    "histogram_g = np.histogram(ag, bins=255, density=True)\n",
    "histogram_b = np.histogram(ab, bins=255, density=True)"
   ],
   "metadata": {
    "collapsed": false,
    "pycharm": {
     "name": "#%%\n"
    }
   }
  },
  {
   "cell_type": "code",
   "execution_count": 90,
   "outputs": [
    {
     "name": "stdout",
     "output_type": "stream",
     "text": [
      "The Coarseness is 0.5984062051758858\n"
     ]
    }
   ],
   "source": [
    "Sm_r = np.mean(histogram_r[0])\n",
    "Sd_r = 0\n",
    "for i in range(0, 255):\n",
    "    Sd_r += pow(histogram_r[0][i] - Sm_r, 2)\n",
    "\n",
    "Sm_g = np.mean(histogram_g[0])\n",
    "Sd_g = 0\n",
    "for i in range(0, 255):\n",
    "    Sd_g += pow(histogram_g[0][i] - Sm_g, 2)\n",
    "\n",
    "Sm_b = np.mean(histogram_b[0])\n",
    "Sd_b = 0\n",
    "for i in range(0, 255):\n",
    "    Sd_b += pow(histogram_b[0][i] - Sm_b, 2)\n",
    "\n",
    "Sd = Sd_r + Sd_g + Sd_b\n",
    "C = 1 - 1 / (1 + Sd)\n",
    "print (\"The Coarseness is\", C)"
   ],
   "metadata": {
    "collapsed": false,
    "pycharm": {
     "name": "#%%\n"
    }
   }
  },
  {
   "cell_type": "markdown",
   "source": [
    "### 熵 Entropy\n",
    "- 1维"
   ],
   "metadata": {
    "collapsed": false,
    "pycharm": {
     "name": "#%% md\n"
    }
   }
  },
  {
   "cell_type": "code",
   "execution_count": 91,
   "outputs": [
    {
     "name": "stdout",
     "output_type": "stream",
     "text": [
      "-1.5391217507548978\n",
      "The Entropy is 5.054648392802223\n"
     ]
    }
   ],
   "source": [
    "Se_r = 0\n",
    "for i in range(0, 255):\n",
    "    Se_r += histogram_r[0][i] * math.log(histogram_r[0][i] + 0.00001, 2)\n",
    "print(Se_r)\n",
    "Se_g = 0\n",
    "for i in range(0, 255):\n",
    "    Se_g += histogram_g[0][i] * math.log(histogram_g[0][i] + 0.00001, 2)\n",
    "\n",
    "Se_b = 0\n",
    "for i in range(0, 255):\n",
    "    Se_b += histogram_b[0][i] * math.log(histogram_b[0][i] + 0.00001, 2)\n",
    "\n",
    "Se = -(Se_r + Se_g + Se_b)\n",
    "print (\"The Entropy is\", Se)"
   ],
   "metadata": {
    "collapsed": false,
    "pycharm": {
     "name": "#%%\n"
    }
   }
  },
  {
   "cell_type": "markdown",
   "source": [
    "### 空间灰度差统计 spatial gray-level difference statistics\n",
    "- 维数与图像有关（相同）"
   ],
   "metadata": {
    "collapsed": false
   }
  },
  {
   "cell_type": "code",
   "execution_count": 93,
   "outputs": [],
   "source": [
    "def fast_glcm(img, vmin=0, vmax=255, nbit=8, kernel_size=5):\n",
    "    mi, ma = vmin, vmax\n",
    "    ks = kernel_size\n",
    "    h,w = img.shape\n",
    "\n",
    "    # digitize\n",
    "    bins = np.linspace(mi, ma+1, nbit+1)\n",
    "    gl1 = np.digitize(img, bins) - 1\n",
    "    gl2 = np.append(gl1[:,1:], gl1[:,-1:], axis=1)\n",
    "\n",
    "    # make glcm\n",
    "    glcm = np.zeros((nbit, nbit, h, w), dtype=np.uint8)\n",
    "    for i in range(nbit):\n",
    "        for j in range(nbit):\n",
    "            mask = ((gl1==i) & (gl2==j))\n",
    "            glcm[i,j, mask] = 1\n",
    "\n",
    "    kernel = np.ones((ks, ks), dtype=np.uint8)\n",
    "    for i in range(nbit):\n",
    "        for j in range(nbit):\n",
    "            glcm[i,j] = cv2.filter2D(glcm[i,j], -1, kernel)\n",
    "\n",
    "    glcm = glcm.astype(np.float32)\n",
    "    return glcm\n",
    "\n",
    "def fast_glcm_mean(img, vmin=0, vmax=255, nbit=8, ks=5):\n",
    "    '''\n",
    "    calc glcm mean\n",
    "    '''\n",
    "    h,w = img.shape\n",
    "    glcm = fast_glcm(img, vmin, vmax, nbit, ks)\n",
    "    mean = np.zeros((h,w), dtype=np.float32)\n",
    "    for i in range(nbit):\n",
    "        for j in range(nbit):\n",
    "            mean += glcm[i,j] * i / (nbit)**2\n",
    "\n",
    "    return mean\n",
    "#\n",
    "# def fast_glcm_std(img, vmin=0, vmax=255, nbit=8, ks=5):\n",
    "#     '''\n",
    "#     calc glcm std\n",
    "#     '''\n",
    "#     h,w = img.shape\n",
    "#     glcm = fast_glcm(img, vmin, vmax, nbit, ks)\n",
    "#     mean = np.zeros((h,w), dtype=np.float32)\n",
    "#     for i in range(nbit):\n",
    "#         for j in range(nbit):\n",
    "#             mean += glcm[i,j] * i / (nbit)**2\n",
    "#\n",
    "#     std2 = np.zeros((h,w), dtype=np.float32)\n",
    "#     for i in range(nbit):\n",
    "#         for j in range(nbit):\n",
    "#             std2 += (glcm[i,j] * i - mean)**2\n",
    "#\n",
    "#     std = np.sqrt(std2)\n",
    "#     return std\n",
    "#\n",
    "# def fast_glcm_contrast(img, vmin=0, vmax=255, nbit=8, ks=5):\n",
    "#     '''\n",
    "#     calc glcm contrast\n",
    "#     '''\n",
    "#     h,w = img.shape\n",
    "#     glcm = fast_glcm(img, vmin, vmax, nbit, ks)\n",
    "#     cont = np.zeros((h,w), dtype=np.float32)\n",
    "#     for i in range(nbit):\n",
    "#         for j in range(nbit):\n",
    "#             cont += glcm[i,j] * (i-j)**2\n",
    "#\n",
    "#     return cont\n",
    "#\n",
    "# def fast_glcm_dissimilarity(img, vmin=0, vmax=255, nbit=8, ks=5):\n",
    "#     '''\n",
    "#     calc glcm dissimilarity\n",
    "#     '''\n",
    "#     h,w = img.shape\n",
    "#     glcm = fast_glcm(img, vmin, vmax, nbit, ks)\n",
    "#     diss = np.zeros((h,w), dtype=np.float32)\n",
    "#     for i in range(nbit):\n",
    "#         for j in range(nbit):\n",
    "#             diss += glcm[i,j] * np.abs(i-j)\n",
    "#\n",
    "#     return diss\n",
    "#\n",
    "# def fast_glcm_homogeneity(img, vmin=0, vmax=255, nbit=8, ks=5):\n",
    "#     '''\n",
    "#     calc glcm homogeneity\n",
    "#     '''\n",
    "#     h,w = img.shape\n",
    "#     glcm = fast_glcm(img, vmin, vmax, nbit, ks)\n",
    "#     homo = np.zeros((h,w), dtype=np.float32)\n",
    "#     for i in range(nbit):\n",
    "#         for j in range(nbit):\n",
    "#             homo += glcm[i,j] / (1.+(i-j)**2)\n",
    "#\n",
    "#     return homo\n",
    "#\n",
    "# def fast_glcm_ASM(img, vmin=0, vmax=255, nbit=8, ks=5):\n",
    "#     '''\n",
    "#     calc glcm asm, energy\n",
    "#     '''\n",
    "#     h,w = img.shape\n",
    "#     glcm = fast_glcm(img, vmin, vmax, nbit, ks)\n",
    "#     asm = np.zeros((h,w), dtype=np.float32)\n",
    "#     for i in range(nbit):\n",
    "#         for j in range(nbit):\n",
    "#             asm  += glcm[i,j]**2\n",
    "#\n",
    "#     ene = np.sqrt(asm)\n",
    "#     return asm, ene\n",
    "#\n",
    "# def fast_glcm_max(img, vmin=0, vmax=255, nbit=8, ks=5):\n",
    "#     '''\n",
    "#     calc glcm max\n",
    "#     '''\n",
    "#     glcm = fast_glcm(img, vmin, vmax, nbit, ks)\n",
    "#     max_  = np.max(glcm, axis=(0,1))\n",
    "#     return max_\n",
    "#\n",
    "# def fast_glcm_entropy(img, vmin=0, vmax=255, nbit=8, ks=5):\n",
    "#     '''\n",
    "#     calc glcm entropy\n",
    "#     '''\n",
    "#     glcm = fast_glcm(img, vmin, vmax, nbit, ks)\n",
    "#     pnorm = glcm / np.sum(glcm, axis=(0,1)) + 1./ks**2\n",
    "#     ent  = np.sum(-pnorm * np.log(pnorm), axis=(0,1))\n",
    "#     return ent"
   ],
   "metadata": {
    "collapsed": false,
    "pycharm": {
     "name": "#%%\n"
    }
   }
  },
  {
   "cell_type": "code",
   "execution_count": 104,
   "outputs": [
    {
     "data": {
      "text/plain": "array([[0., 0., 0., ..., 0., 0., 0.],\n       [0., 0., 0., ..., 0., 0., 0.],\n       [0., 0., 0., ..., 0., 0., 0.],\n       ...,\n       [0., 0., 0., ..., 0., 0., 0.],\n       [0., 0., 0., ..., 0., 0., 0.],\n       [0., 0., 0., ..., 0., 0., 0.]], dtype=float32)"
     },
     "execution_count": 104,
     "metadata": {},
     "output_type": "execute_result"
    }
   ],
   "source": [
    "glcm_mean = fast_glcm_mean(image_gray)\n",
    "glcm_mean"
   ],
   "metadata": {
    "collapsed": false,
    "pycharm": {
     "name": "#%%\n"
    }
   }
  },
  {
   "cell_type": "markdown",
   "source": [
    "### Feature"
   ],
   "metadata": {
    "collapsed": false,
    "pycharm": {
     "name": "#%% md\n"
    }
   }
  },
  {
   "cell_type": "code",
   "execution_count": 105,
   "outputs": [
    {
     "data": {
      "text/plain": "[1.9662861686967643,\n 0.5984062051758858,\n 5.054648392802223,\n array([[0., 0., 0., ..., 0., 0., 0.],\n        [0., 0., 0., ..., 0., 0., 0.],\n        [0., 0., 0., ..., 0., 0., 0.],\n        ...,\n        [0., 0., 0., ..., 0., 0., 0.],\n        [0., 0., 0., ..., 0., 0., 0.],\n        [0., 0., 0., ..., 0., 0., 0.]], dtype=float32)]"
     },
     "execution_count": 105,
     "metadata": {},
     "output_type": "execute_result"
    }
   ],
   "source": [
    "feature = [Hausdorff_D, C, Se, glcm_mean]\n",
    "feature\n"
   ],
   "metadata": {
    "collapsed": false,
    "pycharm": {
     "name": "#%%\n"
    }
   }
  }
 ],
 "metadata": {
  "kernelspec": {
   "display_name": "Python 3",
   "language": "python",
   "name": "python3"
  },
  "language_info": {
   "codemirror_mode": {
    "name": "ipython",
    "version": 2
   },
   "file_extension": ".py",
   "mimetype": "text/x-python",
   "name": "python",
   "nbconvert_exporter": "python",
   "pygments_lexer": "ipython2",
   "version": "2.7.6"
  }
 },
 "nbformat": 4,
 "nbformat_minor": 0
}