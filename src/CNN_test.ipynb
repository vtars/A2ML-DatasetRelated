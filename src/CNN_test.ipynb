{
 "cells": [
  {
   "cell_type": "markdown",
   "metadata": {
    "collapsed": true,
    "pycharm": {
     "name": "#%% md\n"
    }
   },
   "source": [
    "### Try CNN to classficaton"
   ]
  },
  {
   "cell_type": "code",
   "execution_count": 6,
   "outputs": [],
   "source": [
    "import math\n",
    "import torch\n",
    "import torch.nn as nn\n",
    "import torchvision\n",
    "import numpy as np\n",
    "import matplotlib.pyplot as plt # plt 用于显示图片\n",
    "import matplotlib.image as mpimg # mpimg 用于读取图片\n",
    "from torch.autograd import Variable\n",
    "from PIL import Image"
   ],
   "metadata": {
    "collapsed": false,
    "pycharm": {
     "name": "#%%\n"
    }
   }
  },
  {
   "cell_type": "code",
   "execution_count": 7,
   "outputs": [],
   "source": [
    "def ImageToTensor(path):\n",
    "    RGBimg = np.array(Image.open(path).convert(\"RGB\"))\n",
    "    # print(RGBimg.shape)\n",
    "    RGBimg = np.transpose(RGBimg, (2, 0, 1)) # 将通道放到第一维\n",
    "    # print(RGBimg.shape)\n",
    "    torchImg = torch.from_numpy(RGBimg)\n",
    "    # print(torchImg.shape)\n",
    "    torchImg = Variable(torch.unsqueeze(torchImg, dim=0).float(), requires_grad=False)\n",
    "    # print(torchImg.shape)\n",
    "    return torchImg"
   ],
   "metadata": {
    "collapsed": false,
    "pycharm": {
     "name": "#%%\n"
    }
   }
  },
  {
   "cell_type": "code",
   "execution_count": 24,
   "outputs": [],
   "source": [
    "class ResNet(nn.Module):\n",
    "    def __init__(self):\n",
    "        super(ResNet,self).__init__()\n",
    "        self.model = torchvision.models.resnet50(pretrained=True)\n",
    "        self.model.fc = nn.Linear(2048, 10)\n",
    "\n",
    "        pretrained_dict = torch.load('C:/Users/Lenovo/Desktop/ResNet_no_adaptation.pth', map_location='cpu')\n",
    "        model_dict = self.model.state_dict()\n",
    "\n",
    "        for k in model_dict.keys():\n",
    "            if(('module.'+k) in pretrained_dict.keys()):\n",
    "                model_dict[k]=pretrained_dict.get(('module.'+k))\n",
    "        self.model.load_state_dict(model_dict)\n",
    "    def forward(self,x):\n",
    "        out=self.model(x)\n",
    "        return out"
   ],
   "metadata": {
    "collapsed": false,
    "pycharm": {
     "name": "#%%\n"
    }
   }
  },
  {
   "cell_type": "code",
   "execution_count": 25,
   "outputs": [
    {
     "name": "stdout",
     "output_type": "stream",
     "text": [
      "tensor([[-0.0547,  0.0501,  0.2295,  0.2551, -0.5024,  0.0009,  0.2564,  0.1411,\n",
      "         -0.1123, -0.3501]], grad_fn=<AddmmBackward>)\n"
     ]
    }
   ],
   "source": [
    "net = ResNet()\n",
    "# print(net)\n",
    "images = ImageToTensor('./pkq.png')\n",
    "outputs = net(images)\n",
    "print(outputs)"
   ],
   "metadata": {
    "collapsed": false,
    "pycharm": {
     "name": "#%%\n"
    }
   }
  },
  {
   "cell_type": "code",
   "execution_count": 27,
   "outputs": [],
   "source": [
    "def test(pred,lab):\n",
    "    t=pred.max(-1)[1]==lab\n",
    "    return torch.mean(t.float())"
   ],
   "metadata": {
    "collapsed": false,
    "pycharm": {
     "name": "#%%\n"
    }
   }
  },
  {
   "cell_type": "code",
   "execution_count": null,
   "outputs": [],
   "source": [
    "def criterion"
   ],
   "metadata": {
    "collapsed": false,
    "pycharm": {
     "name": "#%%\n"
    }
   }
  },
  {
   "cell_type": "code",
   "execution_count": 29,
   "outputs": [],
   "source": [
    "criterion = nn.CrossEntropyLoss() # 使用CrossEntropyLoss损失\n",
    "optm = torch.optim.Adam(net.parameters()) # Adam优化\n",
    "epochs = 1000 # 训练1000次\n",
    "train_data = []\n",
    "train_lab = []\n",
    "test_data = []\n",
    "test_lab = []"
   ],
   "metadata": {
    "collapsed": false,
    "pycharm": {
     "name": "#%%\n"
    }
   }
  },
  {
   "cell_type": "code",
   "execution_count": null,
   "outputs": [],
   "source": [
    "for i in range(epochs):\n",
    "    # 指定模型为训练模式，计算梯度\n",
    "    net.train()\n",
    "    # 输入值都需要转化成torch的Tensor\n",
    "    x=torch.from_numpy(train_data).float()\n",
    "    y=torch.from_numpy(train_lab).long()\n",
    "    y_hat=net(x)\n",
    "    loss=criterion(y_hat,y) # 计算损失\n",
    "    optm.zero_grad() # 前一步的损失清零\n",
    "    loss.backward() # 反向传播\n",
    "    optm.step() # 优化\n",
    "    if (i+1)%100 ==0 : # 这里我们每100次输出相关的信息\n",
    "        # 指定模型为计算模式\n",
    "        net.eval()\n",
    "        test_in=torch.from_numpy(test_data).float()\n",
    "        test_l=torch.from_numpy(test_lab).long()\n",
    "        test_out=net(test_in)\n",
    "        # 使用我们的测试函数计算准确率\n",
    "        accu=test(test_out,test_l)\n",
    "        print(\"Epoch:{},Loss:{:.4f},Accuracy：{:.4f}\".format(i+1,loss.item(),accu))\n"
   ],
   "metadata": {
    "collapsed": false,
    "pycharm": {
     "name": "#%%\n"
    }
   }
  }
 ],
 "metadata": {
  "kernelspec": {
   "display_name": "Python 3",
   "language": "python",
   "name": "python3"
  },
  "language_info": {
   "codemirror_mode": {
    "name": "ipython",
    "version": 2
   },
   "file_extension": ".py",
   "mimetype": "text/x-python",
   "name": "python",
   "nbconvert_exporter": "python",
   "pygments_lexer": "ipython2",
   "version": "2.7.6"
  }
 },
 "nbformat": 4,
 "nbformat_minor": 0
}